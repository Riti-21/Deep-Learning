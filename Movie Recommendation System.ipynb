{
 "cells": [
  {
   "cell_type": "markdown",
   "metadata": {},
   "source": []
  },
  {
   "cell_type": "markdown",
   "metadata": {},
   "source": []
  },
  {
   "cell_type": "code",
   "execution_count": 1,
   "metadata": {},
   "outputs": [],
   "source": [
    "\n",
    "import re\n",
    "import os\n",
    "import pandas as pd\n",
    "import numpy as np\n",
    "from sklearn.model_selection import train_test_split\n",
    "import torch\n",
    "import torch.nn as nn\n",
    "import torch.nn.functional as F\n",
    "import torchvision\n",
    "import warnings\n",
    "warnings.filterwarnings(\"ignore\")"
   ]
  },
  {
   "cell_type": "code",
   "execution_count": 2,
   "metadata": {},
   "outputs": [
    {
     "name": "stdout",
     "output_type": "stream",
     "text": [
      "Requirement already satisfied: torchvision in c:\\users\\ritig\\anaconda3\\lib\\site-packages (0.11.1)\n",
      "Requirement already satisfied: numpy in c:\\users\\ritig\\anaconda3\\lib\\site-packages (from torchvision) (1.19.2)\n",
      "Requirement already satisfied: pillow!=8.3.0,>=5.3.0 in c:\\users\\ritig\\anaconda3\\lib\\site-packages (from torchvision) (8.0.1)\n",
      "Requirement already satisfied: torch==1.10.0 in c:\\users\\ritig\\anaconda3\\lib\\site-packages (from torchvision) (1.10.0)\n",
      "Requirement already satisfied: typing-extensions in c:\\users\\ritig\\anaconda3\\lib\\site-packages (from torch==1.10.0->torchvision) (3.7.4.3)\n"
     ]
    }
   ],
   "source": [
    "!pip install torchvision"
   ]
  },
  {
   "cell_type": "code",
   "execution_count": 3,
   "metadata": {},
   "outputs": [
    {
     "name": "stdout",
     "output_type": "stream",
     "text": [
      "Requirement already satisfied: torch in c:\\users\\ritig\\anaconda3\\lib\\site-packages (1.10.0)\n",
      "Requirement already satisfied: typing-extensions in c:\\users\\ritig\\anaconda3\\lib\\site-packages (from torch) (3.7.4.3)\n"
     ]
    }
   ],
   "source": [
    "!pip install torch"
   ]
  },
  {
   "cell_type": "markdown",
   "metadata": {},
   "source": [
    "## Q2 - 1 -Computing Target (Xij) dataset from movielens"
   ]
  },
  {
   "cell_type": "markdown",
   "metadata": {},
   "source": [
    "### Loading Datasets"
   ]
  },
  {
   "cell_type": "code",
   "execution_count": 4,
   "metadata": {},
   "outputs": [],
   "source": [
    "\n",
    "\n",
    "ratings_ds = pd.read_csv('C:/Users/ritig/Downloads/archive (2)/ratings.csv')\n",
    "movies_ds = pd.read_csv('C:/Users/ritig/Downloads/archive (2)/movies.csv')\n",
    "tags_ds = pd.read_csv('C:/Users/ritig/Downloads/archive (2)/tags.csv')\n",
    "links_ds=  pd.read_csv('C:/Users/ritig/Downloads/archive (2)/links.csv')"
   ]
  },
  {
   "cell_type": "code",
   "execution_count": 5,
   "metadata": {},
   "outputs": [],
   "source": [
    "#adding column to ratings table to check whether user likes a movie or not\n",
    "\n",
    "ratings_ds['Like']=np.where(ratings_ds['rating']>=4,1,0)"
   ]
  },
  {
   "cell_type": "code",
   "execution_count": 6,
   "metadata": {},
   "outputs": [],
   "source": [
    "ratings_ds2 = ratings_ds.drop(['rating'],axis=1) #Dropping rating column"
   ]
  },
  {
   "cell_type": "code",
   "execution_count": 7,
   "metadata": {},
   "outputs": [],
   "source": [
    "\n",
    "\n",
    "ratings_ds2_pivot = ratings_ds2.pivot(index = 'userId', columns ='movieId', values = 'Like').fillna(0)"
   ]
  },
  {
   "cell_type": "code",
   "execution_count": 8,
   "metadata": {},
   "outputs": [
    {
     "data": {
      "text/plain": [
       "(610, 9724)"
      ]
     },
     "execution_count": 8,
     "metadata": {},
     "output_type": "execute_result"
    }
   ],
   "source": [
    "ratings_ds2_pivot.shape"
   ]
  },
  {
   "cell_type": "code",
   "execution_count": 9,
   "metadata": {},
   "outputs": [],
   "source": [
    "\n",
    "rating_co_occ = ratings_ds2_pivot.T.dot(ratings_ds2_pivot)"
   ]
  },
  {
   "cell_type": "code",
   "execution_count": 10,
   "metadata": {},
   "outputs": [
    {
     "data": {
      "text/html": [
       "<div>\n",
       "<style scoped>\n",
       "    .dataframe tbody tr th:only-of-type {\n",
       "        vertical-align: middle;\n",
       "    }\n",
       "\n",
       "    .dataframe tbody tr th {\n",
       "        vertical-align: top;\n",
       "    }\n",
       "\n",
       "    .dataframe thead th {\n",
       "        text-align: right;\n",
       "    }\n",
       "</style>\n",
       "<table border=\"1\" class=\"dataframe\">\n",
       "  <thead>\n",
       "    <tr style=\"text-align: right;\">\n",
       "      <th>movieId</th>\n",
       "      <th>1</th>\n",
       "      <th>2</th>\n",
       "      <th>3</th>\n",
       "      <th>4</th>\n",
       "      <th>5</th>\n",
       "      <th>6</th>\n",
       "      <th>7</th>\n",
       "      <th>8</th>\n",
       "      <th>9</th>\n",
       "      <th>10</th>\n",
       "      <th>...</th>\n",
       "      <th>193565</th>\n",
       "      <th>193567</th>\n",
       "      <th>193571</th>\n",
       "      <th>193573</th>\n",
       "      <th>193579</th>\n",
       "      <th>193581</th>\n",
       "      <th>193583</th>\n",
       "      <th>193585</th>\n",
       "      <th>193587</th>\n",
       "      <th>193609</th>\n",
       "    </tr>\n",
       "    <tr>\n",
       "      <th>movieId</th>\n",
       "      <th></th>\n",
       "      <th></th>\n",
       "      <th></th>\n",
       "      <th></th>\n",
       "      <th></th>\n",
       "      <th></th>\n",
       "      <th></th>\n",
       "      <th></th>\n",
       "      <th></th>\n",
       "      <th></th>\n",
       "      <th></th>\n",
       "      <th></th>\n",
       "      <th></th>\n",
       "      <th></th>\n",
       "      <th></th>\n",
       "      <th></th>\n",
       "      <th></th>\n",
       "      <th></th>\n",
       "      <th></th>\n",
       "      <th></th>\n",
       "      <th></th>\n",
       "    </tr>\n",
       "  </thead>\n",
       "  <tbody>\n",
       "    <tr>\n",
       "      <th>1</th>\n",
       "      <td>147.0</td>\n",
       "      <td>21.0</td>\n",
       "      <td>11.0</td>\n",
       "      <td>0.0</td>\n",
       "      <td>7.0</td>\n",
       "      <td>27.0</td>\n",
       "      <td>7.0</td>\n",
       "      <td>1.0</td>\n",
       "      <td>4.0</td>\n",
       "      <td>19.0</td>\n",
       "      <td>...</td>\n",
       "      <td>0.0</td>\n",
       "      <td>0.0</td>\n",
       "      <td>0.0</td>\n",
       "      <td>0.0</td>\n",
       "      <td>0.0</td>\n",
       "      <td>0.0</td>\n",
       "      <td>0.0</td>\n",
       "      <td>0.0</td>\n",
       "      <td>0.0</td>\n",
       "      <td>0.0</td>\n",
       "    </tr>\n",
       "    <tr>\n",
       "      <th>2</th>\n",
       "      <td>21.0</td>\n",
       "      <td>50.0</td>\n",
       "      <td>5.0</td>\n",
       "      <td>0.0</td>\n",
       "      <td>4.0</td>\n",
       "      <td>8.0</td>\n",
       "      <td>6.0</td>\n",
       "      <td>0.0</td>\n",
       "      <td>0.0</td>\n",
       "      <td>9.0</td>\n",
       "      <td>...</td>\n",
       "      <td>0.0</td>\n",
       "      <td>0.0</td>\n",
       "      <td>0.0</td>\n",
       "      <td>0.0</td>\n",
       "      <td>0.0</td>\n",
       "      <td>0.0</td>\n",
       "      <td>0.0</td>\n",
       "      <td>0.0</td>\n",
       "      <td>0.0</td>\n",
       "      <td>0.0</td>\n",
       "    </tr>\n",
       "    <tr>\n",
       "      <th>3</th>\n",
       "      <td>11.0</td>\n",
       "      <td>5.0</td>\n",
       "      <td>18.0</td>\n",
       "      <td>0.0</td>\n",
       "      <td>4.0</td>\n",
       "      <td>4.0</td>\n",
       "      <td>5.0</td>\n",
       "      <td>1.0</td>\n",
       "      <td>2.0</td>\n",
       "      <td>3.0</td>\n",
       "      <td>...</td>\n",
       "      <td>0.0</td>\n",
       "      <td>0.0</td>\n",
       "      <td>0.0</td>\n",
       "      <td>0.0</td>\n",
       "      <td>0.0</td>\n",
       "      <td>0.0</td>\n",
       "      <td>0.0</td>\n",
       "      <td>0.0</td>\n",
       "      <td>0.0</td>\n",
       "      <td>0.0</td>\n",
       "    </tr>\n",
       "    <tr>\n",
       "      <th>4</th>\n",
       "      <td>0.0</td>\n",
       "      <td>0.0</td>\n",
       "      <td>0.0</td>\n",
       "      <td>0.0</td>\n",
       "      <td>0.0</td>\n",
       "      <td>0.0</td>\n",
       "      <td>0.0</td>\n",
       "      <td>0.0</td>\n",
       "      <td>0.0</td>\n",
       "      <td>0.0</td>\n",
       "      <td>...</td>\n",
       "      <td>0.0</td>\n",
       "      <td>0.0</td>\n",
       "      <td>0.0</td>\n",
       "      <td>0.0</td>\n",
       "      <td>0.0</td>\n",
       "      <td>0.0</td>\n",
       "      <td>0.0</td>\n",
       "      <td>0.0</td>\n",
       "      <td>0.0</td>\n",
       "      <td>0.0</td>\n",
       "    </tr>\n",
       "    <tr>\n",
       "      <th>5</th>\n",
       "      <td>7.0</td>\n",
       "      <td>4.0</td>\n",
       "      <td>4.0</td>\n",
       "      <td>0.0</td>\n",
       "      <td>12.0</td>\n",
       "      <td>3.0</td>\n",
       "      <td>4.0</td>\n",
       "      <td>1.0</td>\n",
       "      <td>1.0</td>\n",
       "      <td>2.0</td>\n",
       "      <td>...</td>\n",
       "      <td>0.0</td>\n",
       "      <td>0.0</td>\n",
       "      <td>0.0</td>\n",
       "      <td>0.0</td>\n",
       "      <td>0.0</td>\n",
       "      <td>0.0</td>\n",
       "      <td>0.0</td>\n",
       "      <td>0.0</td>\n",
       "      <td>0.0</td>\n",
       "      <td>0.0</td>\n",
       "    </tr>\n",
       "  </tbody>\n",
       "</table>\n",
       "<p>5 rows × 9724 columns</p>\n",
       "</div>"
      ],
      "text/plain": [
       "movieId  1       2       3       4       5       6       7       8       \\\n",
       "movieId                                                                   \n",
       "1         147.0    21.0    11.0     0.0     7.0    27.0     7.0     1.0   \n",
       "2          21.0    50.0     5.0     0.0     4.0     8.0     6.0     0.0   \n",
       "3          11.0     5.0    18.0     0.0     4.0     4.0     5.0     1.0   \n",
       "4           0.0     0.0     0.0     0.0     0.0     0.0     0.0     0.0   \n",
       "5           7.0     4.0     4.0     0.0    12.0     3.0     4.0     1.0   \n",
       "\n",
       "movieId  9       10      ...  193565  193567  193571  193573  193579  193581  \\\n",
       "movieId                  ...                                                   \n",
       "1           4.0    19.0  ...     0.0     0.0     0.0     0.0     0.0     0.0   \n",
       "2           0.0     9.0  ...     0.0     0.0     0.0     0.0     0.0     0.0   \n",
       "3           2.0     3.0  ...     0.0     0.0     0.0     0.0     0.0     0.0   \n",
       "4           0.0     0.0  ...     0.0     0.0     0.0     0.0     0.0     0.0   \n",
       "5           1.0     2.0  ...     0.0     0.0     0.0     0.0     0.0     0.0   \n",
       "\n",
       "movieId  193583  193585  193587  193609  \n",
       "movieId                                  \n",
       "1           0.0     0.0     0.0     0.0  \n",
       "2           0.0     0.0     0.0     0.0  \n",
       "3           0.0     0.0     0.0     0.0  \n",
       "4           0.0     0.0     0.0     0.0  \n",
       "5           0.0     0.0     0.0     0.0  \n",
       "\n",
       "[5 rows x 9724 columns]"
      ]
     },
     "execution_count": 10,
     "metadata": {},
     "output_type": "execute_result"
    }
   ],
   "source": [
    "rating_co_occ.head()"
   ]
  },
  {
   "cell_type": "code",
   "execution_count": 11,
   "metadata": {},
   "outputs": [
    {
     "data": {
      "text/plain": [
       "(9724, 9724)"
      ]
     },
     "execution_count": 11,
     "metadata": {},
     "output_type": "execute_result"
    }
   ],
   "source": [
    "rating_co_occ.shape"
   ]
  },
  {
   "cell_type": "markdown",
   "metadata": {},
   "source": [
    "##  Creating and optimising the loss function"
   ]
  },
  {
   "cell_type": "code",
   "execution_count": 12,
   "metadata": {},
   "outputs": [],
   "source": [
    "\n",
    "observed=rating_co_occ.to_numpy()\n",
    "np.fill_diagonal(observed, 0)"
   ]
  },
  {
   "cell_type": "code",
   "execution_count": 13,
   "metadata": {},
   "outputs": [
    {
     "data": {
      "text/plain": [
       "tensor([[ 0., 21., 11.,  ...,  0.,  0.,  0.],\n",
       "        [21.,  0.,  5.,  ...,  0.,  0.,  0.],\n",
       "        [11.,  5.,  0.,  ...,  0.,  0.,  0.],\n",
       "        ...,\n",
       "        [ 0.,  0.,  0.,  ...,  0.,  0.,  0.],\n",
       "        [ 0.,  0.,  0.,  ...,  0.,  0.,  0.],\n",
       "        [ 0.,  0.,  0.,  ...,  0.,  0.,  0.]])"
      ]
     },
     "execution_count": 13,
     "metadata": {},
     "output_type": "execute_result"
    }
   ],
   "source": [
    "\n",
    "observed = torch.from_numpy(rating_co_occ.to_numpy()).float()\n",
    "observed"
   ]
  },
  {
   "cell_type": "code",
   "execution_count": 14,
   "metadata": {},
   "outputs": [],
   "source": [
    "\n",
    "reference = rating_co_occ.reset_index()\n",
    "reference = reference.merge(movies_ds, on='movieId', how='inner')"
   ]
  },
  {
   "cell_type": "code",
   "execution_count": 15,
   "metadata": {},
   "outputs": [],
   "source": [
    "reference[\"movie\"]=reference[\"title\"].str.split('(',expand=True)[0].str.strip().str.lower()"
   ]
  },
  {
   "cell_type": "code",
   "execution_count": 16,
   "metadata": {
    "scrolled": false
   },
   "outputs": [
    {
     "data": {
      "text/html": [
       "<div>\n",
       "<style scoped>\n",
       "    .dataframe tbody tr th:only-of-type {\n",
       "        vertical-align: middle;\n",
       "    }\n",
       "\n",
       "    .dataframe tbody tr th {\n",
       "        vertical-align: top;\n",
       "    }\n",
       "\n",
       "    .dataframe thead th {\n",
       "        text-align: right;\n",
       "    }\n",
       "</style>\n",
       "<table border=\"1\" class=\"dataframe\">\n",
       "  <thead>\n",
       "    <tr style=\"text-align: right;\">\n",
       "      <th></th>\n",
       "      <th>movieId</th>\n",
       "      <th>1</th>\n",
       "      <th>2</th>\n",
       "      <th>3</th>\n",
       "      <th>4</th>\n",
       "      <th>5</th>\n",
       "      <th>6</th>\n",
       "      <th>7</th>\n",
       "      <th>8</th>\n",
       "      <th>9</th>\n",
       "      <th>...</th>\n",
       "      <th>193573</th>\n",
       "      <th>193579</th>\n",
       "      <th>193581</th>\n",
       "      <th>193583</th>\n",
       "      <th>193585</th>\n",
       "      <th>193587</th>\n",
       "      <th>193609</th>\n",
       "      <th>title</th>\n",
       "      <th>genres</th>\n",
       "      <th>movie</th>\n",
       "    </tr>\n",
       "  </thead>\n",
       "  <tbody>\n",
       "    <tr>\n",
       "      <th>0</th>\n",
       "      <td>1</td>\n",
       "      <td>0.0</td>\n",
       "      <td>21.0</td>\n",
       "      <td>11.0</td>\n",
       "      <td>0.0</td>\n",
       "      <td>7.0</td>\n",
       "      <td>27.0</td>\n",
       "      <td>7.0</td>\n",
       "      <td>1.0</td>\n",
       "      <td>4.0</td>\n",
       "      <td>...</td>\n",
       "      <td>0.0</td>\n",
       "      <td>0.0</td>\n",
       "      <td>0.0</td>\n",
       "      <td>0.0</td>\n",
       "      <td>0.0</td>\n",
       "      <td>0.0</td>\n",
       "      <td>0.0</td>\n",
       "      <td>Toy Story (1995)</td>\n",
       "      <td>Adventure|Animation|Children|Comedy|Fantasy</td>\n",
       "      <td>toy story</td>\n",
       "    </tr>\n",
       "    <tr>\n",
       "      <th>1</th>\n",
       "      <td>2</td>\n",
       "      <td>21.0</td>\n",
       "      <td>0.0</td>\n",
       "      <td>5.0</td>\n",
       "      <td>0.0</td>\n",
       "      <td>4.0</td>\n",
       "      <td>8.0</td>\n",
       "      <td>6.0</td>\n",
       "      <td>0.0</td>\n",
       "      <td>0.0</td>\n",
       "      <td>...</td>\n",
       "      <td>0.0</td>\n",
       "      <td>0.0</td>\n",
       "      <td>0.0</td>\n",
       "      <td>0.0</td>\n",
       "      <td>0.0</td>\n",
       "      <td>0.0</td>\n",
       "      <td>0.0</td>\n",
       "      <td>Jumanji (1995)</td>\n",
       "      <td>Adventure|Children|Fantasy</td>\n",
       "      <td>jumanji</td>\n",
       "    </tr>\n",
       "    <tr>\n",
       "      <th>2</th>\n",
       "      <td>3</td>\n",
       "      <td>11.0</td>\n",
       "      <td>5.0</td>\n",
       "      <td>0.0</td>\n",
       "      <td>0.0</td>\n",
       "      <td>4.0</td>\n",
       "      <td>4.0</td>\n",
       "      <td>5.0</td>\n",
       "      <td>1.0</td>\n",
       "      <td>2.0</td>\n",
       "      <td>...</td>\n",
       "      <td>0.0</td>\n",
       "      <td>0.0</td>\n",
       "      <td>0.0</td>\n",
       "      <td>0.0</td>\n",
       "      <td>0.0</td>\n",
       "      <td>0.0</td>\n",
       "      <td>0.0</td>\n",
       "      <td>Grumpier Old Men (1995)</td>\n",
       "      <td>Comedy|Romance</td>\n",
       "      <td>grumpier old men</td>\n",
       "    </tr>\n",
       "  </tbody>\n",
       "</table>\n",
       "<p>3 rows × 9728 columns</p>\n",
       "</div>"
      ],
      "text/plain": [
       "   movieId     1     2     3    4    5     6    7    8    9  ...  193573  \\\n",
       "0        1   0.0  21.0  11.0  0.0  7.0  27.0  7.0  1.0  4.0  ...     0.0   \n",
       "1        2  21.0   0.0   5.0  0.0  4.0   8.0  6.0  0.0  0.0  ...     0.0   \n",
       "2        3  11.0   5.0   0.0  0.0  4.0   4.0  5.0  1.0  2.0  ...     0.0   \n",
       "\n",
       "   193579  193581  193583  193585  193587  193609                    title  \\\n",
       "0     0.0     0.0     0.0     0.0     0.0     0.0         Toy Story (1995)   \n",
       "1     0.0     0.0     0.0     0.0     0.0     0.0           Jumanji (1995)   \n",
       "2     0.0     0.0     0.0     0.0     0.0     0.0  Grumpier Old Men (1995)   \n",
       "\n",
       "                                        genres             movie  \n",
       "0  Adventure|Animation|Children|Comedy|Fantasy         toy story  \n",
       "1                   Adventure|Children|Fantasy           jumanji  \n",
       "2                               Comedy|Romance  grumpier old men  \n",
       "\n",
       "[3 rows x 9728 columns]"
      ]
     },
     "execution_count": 16,
     "metadata": {},
     "output_type": "execute_result"
    }
   ],
   "source": [
    "reference.head(3)"
   ]
  },
  {
   "cell_type": "code",
   "execution_count": 17,
   "metadata": {},
   "outputs": [
    {
     "name": "stdout",
     "output_type": "stream",
     "text": [
      "[     1      2      3 ... 193585 193587 193609]\n",
      "[   0    1    2 ... 9721 9722 9723]\n",
      "[[1. 0. 0. ... 0. 0. 0.]\n",
      " [0. 1. 0. ... 0. 0. 0.]\n",
      " [0. 0. 1. ... 0. 0. 0.]\n",
      " ...\n",
      " [0. 0. 0. ... 1. 0. 0.]\n",
      " [0. 0. 0. ... 0. 1. 0.]\n",
      " [0. 0. 0. ... 0. 0. 1.]]\n",
      "[1]\n"
     ]
    }
   ],
   "source": [
    "\n",
    "\n",
    "from numpy import array\n",
    "from numpy import argmax\n",
    "from sklearn.preprocessing import LabelEncoder\n",
    "from sklearn.preprocessing import OneHotEncoder\n",
    "data = reference[\"movieId\"].unique()\n",
    "values = array(data)\n",
    "print(values)\n",
    "\n",
    "label_encoder = LabelEncoder()\n",
    "integer_encoded = label_encoder.fit_transform(values)\n",
    "print(integer_encoded)\n",
    "\n",
    "onehot_encoder = OneHotEncoder(sparse=False)\n",
    "integer_encoded = integer_encoded.reshape(len(integer_encoded), 1)\n",
    "onehot_encoded = onehot_encoder.fit_transform(integer_encoded)\n",
    "print(onehot_encoded)\n",
    "\n",
    "inverted = label_encoder.inverse_transform([argmax(onehot_encoded[0, :])])\n",
    "print(inverted)"
   ]
  },
  {
   "cell_type": "code",
   "execution_count": 18,
   "metadata": {},
   "outputs": [],
   "source": [
    "\n",
    "\n",
    "movies_tensor = torch.from_numpy(onehot_encoded).float()\n",
    "movies_tensor= torch.tensor(movies_tensor)\n"
   ]
  },
  {
   "cell_type": "code",
   "execution_count": 19,
   "metadata": {
    "scrolled": false
   },
   "outputs": [
    {
     "name": "stdout",
     "output_type": "stream",
     "text": [
      "0 63482972.0\n",
      "20 22642630.0\n",
      "40 8412664.0\n",
      "60 5158022.0\n",
      "80 3708338.25\n",
      "100 2761467.0\n",
      "120 2102099.0\n",
      "140 1635955.5\n",
      "160 1300654.875\n",
      "180 1053054.5\n",
      "200 866583.4375\n"
     ]
    }
   ],
   "source": [
    "\n",
    "import torch\n",
    "torch.nn.Linear\n",
    "\n",
    "# N is batch size; D_in is input dimension;\n",
    "# H is hidden dimension; D_out is output dimension.\n",
    "D_in,H, D_out = 9724, 300, 9724\n",
    "loss_array =[]\n",
    "# Create random Tensors to hold inputs and outputs\n",
    "x = movies_tensor\n",
    "y = observed\n",
    "\n",
    "# Use the nn package to define our model as a sequence of layers. nn.Sequential\n",
    "# is a Module which contains other Modules, and applies them in sequence to\n",
    "# produce its output. Each Linear Module computes output from input using a\n",
    "# linear function, and holds internal Tensors for its weight and bias.\n",
    "\n",
    "\n",
    "model = torch.nn.Sequential(\n",
    "    torch.nn.Linear(D_in, H,bias=0)\n",
    ")\n",
    "\n",
    ".\n",
    "loss_fn = torch.nn.MSELoss(reduction=\"sum\")\n",
    "\n",
    "learning_rate = 0.01\n",
    "optimizer = torch.optim.Adam(model.parameters(), lr=learning_rate)\n",
    "for t in range(201):\n",
    "    \n",
    "    v_i = model(x)\n",
    "    v_j = v_i.t()\n",
    "    y_pred = torch.mm(v_i,v_j)\n",
    "    \n",
    "    \n",
    "    ind = np.diag_indices(y_pred.shape[0])\n",
    "    y_pred[ind[0], ind[1]] = torch.zeros(y_pred.shape[0])\n",
    "    y_pred\n",
    "\n",
    "    # Compute and print loss.\n",
    "    loss = loss_fn(y_pred, y)\n",
    "    if t % 20 == 0:\n",
    "        print(t, loss.item())\n",
    "        loss_array.append(loss)\n",
    "        optimizer.zero_grad()\n",
    "\n",
    "  \n",
    "    loss.backward()\n",
    "\n",
    "  \n",
    "    optimizer.step()\n",
    "\n",
    "\n",
    "\n"
   ]
  },
  {
   "cell_type": "markdown",
   "metadata": {},
   "source": []
  },
  {
   "cell_type": "code",
   "execution_count": 20,
   "metadata": {},
   "outputs": [
    {
     "data": {
      "image/png": "[encoded data removed]",
      "text/plain": [
       "<Figure size 432x288 with 1 Axes>"
      ]
     },
     "metadata": {
      "needs_background": "light"
     },
     "output_type": "display_data"
    }
   ],
   "source": [
    "\n",
    "import matplotlib.pyplot as plt\n",
    "plt.title(\"Loss vs iteration plot\")\n",
    "plt.plot(loss_array)\n",
    "plt.show()"
   ]
  },
  {
   "cell_type": "markdown",
   "metadata": {},
   "source": []
  },
  {
   "cell_type": "code",
   "execution_count": 21,
   "metadata": {},
   "outputs": [],
   "source": [
    "\n",
    "\n",
    "def prediction(moviename):\n",
    "    \n",
    "   \n",
    "    moviename= moviename.lower()\n",
    "    idx = reference[reference[\"movie\"]== moviename].index[0]   \n",
    "    movie = movies_tensor[idx]\n",
    "    movie = movie.reshape(1,movie.shape[0])\n",
    "    \n",
    "   \n",
    "    for name, param in model.named_parameters():\n",
    "        weight_vector = param\n",
    "    \n",
    "    \n",
    "    movie_i = model(movie)\n",
    "    pred = torch.mm(movie_i,weight_vector)\n",
    "    \n",
    "    \n",
    "    pred_idx = (-np.asanyarray(pred[0].detach().numpy())).argsort()[:10]\n",
    "    \n",
    "    recommendations = reference[\"title\"].iloc[pred_idx]\n",
    "    \n",
    "    return recommendations\n",
    "    "
   ]
  },
  {
   "cell_type": "code",
   "execution_count": 22,
   "metadata": {},
   "outputs": [],
   "source": [
    "\n",
    "def observed_reco(moviename):\n",
    "    \n",
    "    \n",
    "    idx = reference[reference[\"movie\"]== moviename].index[0]\n",
    "    \n",
    "    \n",
    "    obs_idx = (-np.asanyarray(rating_co_occ.iloc[idx])).argsort()[:10]\n",
    "    \n",
    "    \n",
    "    recommendations = reference[\"title\"].iloc[obs_idx]\n",
    "    \n",
    "    return recommendations"
   ]
  },
  {
   "cell_type": "markdown",
   "metadata": {},
   "source": []
  },
  {
   "cell_type": "code",
   "execution_count": 23,
   "metadata": {},
   "outputs": [
    {
     "data": {
      "text/plain": [
       "'Model Predictions:'"
      ]
     },
     "metadata": {},
     "output_type": "display_data"
    },
    {
     "data": {
      "text/plain": [
       "314                          Forrest Gump (1994)\n",
       "277             Shawshank Redemption, The (1994)\n",
       "257                          Pulp Fiction (1994)\n",
       "510             Silence of the Lambs, The (1991)\n",
       "123                             Apollo 13 (1995)\n",
       "97                             Braveheart (1995)\n",
       "418                         Jurassic Park (1993)\n",
       "398                         Fugitive, The (1993)\n",
       "461                      Schindler's List (1993)\n",
       "224    Star Wars: Episode IV - A New Hope (1977)\n",
       "Name: title, dtype: object"
      ]
     },
     "metadata": {},
     "output_type": "display_data"
    },
    {
     "data": {
      "text/plain": [
       "'Actual Predictions:'"
      ]
     },
     "metadata": {},
     "output_type": "display_data"
    },
    {
     "data": {
      "text/plain": [
       "277             Shawshank Redemption, The (1994)\n",
       "314                          Forrest Gump (1994)\n",
       "257                          Pulp Fiction (1994)\n",
       "418                         Jurassic Park (1993)\n",
       "510             Silence of the Lambs, The (1991)\n",
       "398                         Fugitive, The (1993)\n",
       "97                             Braveheart (1995)\n",
       "461                      Schindler's List (1993)\n",
       "507            Terminator 2: Judgment Day (1991)\n",
       "224    Star Wars: Episode IV - A New Hope (1977)\n",
       "Name: title, dtype: object"
      ]
     },
     "metadata": {},
     "output_type": "display_data"
    }
   ],
   "source": [
    "display(\"Model Predictions:\",prediction(\"APOLLO 13\"),\"Actual Predictions:\", observed_reco(\"apollo 13\"))"
   ]
  },
  {
   "cell_type": "markdown",
   "metadata": {},
   "source": []
  },
  {
   "cell_type": "code",
   "execution_count": 24,
   "metadata": {},
   "outputs": [
    {
     "data": {
      "text/plain": [
       "'Model Predictions:'"
      ]
     },
     "metadata": {},
     "output_type": "display_data"
    },
    {
     "data": {
      "text/plain": [
       "314                                   Forrest Gump (1994)\n",
       "277                      Shawshank Redemption, The (1994)\n",
       "257                                   Pulp Fiction (1994)\n",
       "510                      Silence of the Lambs, The (1991)\n",
       "224             Star Wars: Episode IV - A New Hope (1977)\n",
       "1938                                   Matrix, The (1999)\n",
       "897     Star Wars: Episode V - The Empire Strikes Back...\n",
       "899     Raiders of the Lost Ark (Indiana Jones and the...\n",
       "0                                        Toy Story (1995)\n",
       "418                                  Jurassic Park (1993)\n",
       "Name: title, dtype: object"
      ]
     },
     "metadata": {},
     "output_type": "display_data"
    },
    {
     "data": {
      "text/plain": [
       "'Actual Predictions:'"
      ]
     },
     "metadata": {},
     "output_type": "display_data"
    },
    {
     "data": {
      "text/plain": [
       "277                      Shawshank Redemption, The (1994)\n",
       "314                                   Forrest Gump (1994)\n",
       "224             Star Wars: Episode IV - A New Hope (1977)\n",
       "257                                   Pulp Fiction (1994)\n",
       "510                      Silence of the Lambs, The (1991)\n",
       "897     Star Wars: Episode V - The Empire Strikes Back...\n",
       "1938                                   Matrix, The (1999)\n",
       "418                                  Jurassic Park (1993)\n",
       "899     Raiders of the Lost Ark (Indiana Jones and the...\n",
       "910     Star Wars: Episode VI - Return of the Jedi (1983)\n",
       "Name: title, dtype: object"
      ]
     },
     "metadata": {},
     "output_type": "display_data"
    }
   ],
   "source": [
    "display(\"Model Predictions:\",prediction(\"toy story\"),\"Actual Predictions:\", observed_reco(\"toy story\"))"
   ]
  },
  {
   "cell_type": "markdown",
   "metadata": {},
   "source": []
  },
  {
   "cell_type": "code",
   "execution_count": 25,
   "metadata": {},
   "outputs": [
    {
     "data": {
      "text/plain": [
       "'Model Predictions:'"
      ]
     },
     "metadata": {},
     "output_type": "display_data"
    },
    {
     "data": {
      "text/plain": [
       "314                                   Forrest Gump (1994)\n",
       "504                                     Home Alone (1990)\n",
       "418                                  Jurassic Park (1993)\n",
       "277                      Shawshank Redemption, The (1994)\n",
       "506                                        Aladdin (1992)\n",
       "322                                 Lion King, The (1994)\n",
       "1938                                   Matrix, The (1999)\n",
       "224             Star Wars: Episode IV - A New Hope (1977)\n",
       "0                                        Toy Story (1995)\n",
       "897     Star Wars: Episode V - The Empire Strikes Back...\n",
       "Name: title, dtype: object"
      ]
     },
     "metadata": {},
     "output_type": "display_data"
    },
    {
     "data": {
      "text/plain": [
       "'Actual Predictions:'"
      ]
     },
     "metadata": {},
     "output_type": "display_data"
    },
    {
     "data": {
      "text/plain": [
       "314                   Forrest Gump (1994)\n",
       "418                  Jurassic Park (1993)\n",
       "277      Shawshank Redemption, The (1994)\n",
       "506                        Aladdin (1992)\n",
       "322                 Lion King, The (1994)\n",
       "507     Terminator 2: Judgment Day (1991)\n",
       "0                        Toy Story (1995)\n",
       "510      Silence of the Lambs, The (1991)\n",
       "1938                   Matrix, The (1999)\n",
       "257                   Pulp Fiction (1994)\n",
       "Name: title, dtype: object"
      ]
     },
     "metadata": {},
     "output_type": "display_data"
    }
   ],
   "source": [
    "display(\"Model Predictions:\",prediction(\"home alone\"),\"Actual Predictions:\", observed_reco(\"home alone\"))"
   ]
  },
  {
   "cell_type": "markdown",
   "metadata": {},
   "source": []
  },
  {
   "cell_type": "markdown",
   "metadata": {},
   "source": []
  },
  {
   "cell_type": "code",
   "execution_count": 26,
   "metadata": {
    "scrolled": true
   },
   "outputs": [
    {
     "name": "stdout",
     "output_type": "stream",
     "text": [
      "0 63482972.0\n",
      "20 7934567424.0\n",
      "40 701364544.0\n",
      "60 69960000.0\n",
      "80 17017092.0\n",
      "100 9542524.0\n",
      "120 7088697.5\n",
      "140 5666078.0\n",
      "160 4703708.0\n",
      "180 4000393.75\n",
      "200 3460939.0\n"
     ]
    }
   ],
   "source": [
    "\n",
    "import torch\n",
    "torch.nn.Linear\n",
    "\n",
    "D_in,H, D_out = 9724, 300, 9724\n",
    "loss_array =[]\n",
    "\n",
    "x = movies_tensor\n",
    "y = observed\n",
    "\n",
    "\n",
    "model = torch.nn.Sequential(\n",
    "    torch.nn.Linear(D_in, H,bias=0)\n",
    ")\n",
    "\n",
    "loss_fn = torch.nn.MSELoss(reduction=\"sum\")\n",
    "\n",
    "learning_rate = 1\n",
    "optimizer = torch.optim.Adam(model.parameters(), lr=learning_rate)\n",
    "for t in range(201):\n",
    "    \n",
    "    v_i = model(x)\n",
    "    v_j = v_i.t()\n",
    "    y_pred = torch.mm(v_i,v_j)\n",
    "    \n",
    "    \n",
    "    ind = np.diag_indices(y_pred.shape[0])\n",
    "    y_pred[ind[0], ind[1]] = torch.zeros(y_pred.shape[0])\n",
    "    y_pred\n",
    "\n",
    "    \n",
    "    loss = loss_fn(y_pred, y)\n",
    "    if t % 20 == 0:\n",
    "        print(t, loss.item())\n",
    "        loss_array.append(loss)\n",
    "    optimizer.zero_grad()\n",
    "\n",
    "    \n",
    "    loss.backward()\n",
    "\n",
    "   \n",
    "    optimizer.step()\n",
    "\n",
    "\n"
   ]
  },
  {
   "cell_type": "code",
   "execution_count": 27,
   "metadata": {},
   "outputs": [
    {
     "data": {
      "image/png": "[encoded data removed]",
      "text/plain": [
       "<Figure size 432x288 with 1 Axes>"
      ]
     },
     "metadata": {
      "needs_background": "light"
     },
     "output_type": "display_data"
    }
   ],
   "source": [
    "\n",
    "import matplotlib.pyplot as plt\n",
    "plt.title(\"Loss vs iteration plot\")\n",
    "plt.plot(loss_array)\n",
    "plt.show()"
   ]
  },
  {
   "cell_type": "markdown",
   "metadata": {},
   "source": []
  },
  {
   "cell_type": "code",
   "execution_count": 28,
   "metadata": {},
   "outputs": [
    {
     "data": {
      "text/plain": [
       "277     Shawshank Redemption, The (1994)\n",
       "314                  Forrest Gump (1994)\n",
       "257                  Pulp Fiction (1994)\n",
       "510     Silence of the Lambs, The (1991)\n",
       "97                     Braveheart (1995)\n",
       "418                 Jurassic Park (1993)\n",
       "398                 Fugitive, The (1993)\n",
       "123                     Apollo 13 (1995)\n",
       "461              Schindler's List (1993)\n",
       "507    Terminator 2: Judgment Day (1991)\n",
       "Name: title, dtype: object"
      ]
     },
     "execution_count": 28,
     "metadata": {},
     "output_type": "execute_result"
    }
   ],
   "source": [
    "prediction(\"apollo 13\")"
   ]
  },
  {
   "cell_type": "markdown",
   "metadata": {},
   "source": [
    "#### Lowering the learning rate by 100 times to 0.0001"
   ]
  },
  {
   "cell_type": "code",
   "execution_count": 29,
   "metadata": {
    "scrolled": true
   },
   "outputs": [
    {
     "name": "stdout",
     "output_type": "stream",
     "text": [
      "0 63482980.0\n",
      "20 63455836.0\n",
      "40 63349880.0\n",
      "60 63132460.0\n",
      "80 62796696.0\n",
      "100 62353268.0\n",
      "120 61818904.0\n",
      "140 61210540.0\n",
      "160 60543556.0\n",
      "180 59830428.0\n",
      "200 59080836.0\n"
     ]
    }
   ],
   "source": [
    "import torch\n",
    "torch.nn.Linear\n",
    "\n",
    "D_in,H, D_out = 9724, 300, 9724\n",
    "loss_array =[]\n",
    "\n",
    "x = movies_tensor\n",
    "y = observed\n",
    "\n",
    "\n",
    "model = torch.nn.Sequential(\n",
    "    torch.nn.Linear(D_in, H,bias=0)\n",
    ")\n",
    "\n",
    "loss_fn = torch.nn.MSELoss(reduction=\"sum\")\n",
    "\n",
    "learning_rate = 0.0001\n",
    "optimizer = torch.optim.Adam(model.parameters(), lr=learning_rate)\n",
    "for t in range(201):\n",
    "    \n",
    "    v_i = model(x)\n",
    "    v_j = v_i.t()\n",
    "    y_pred = torch.mm(v_i,v_j)\n",
    "    \n",
    "    \n",
    "    ind = np.diag_indices(y_pred.shape[0])\n",
    "    y_pred[ind[0], ind[1]] = torch.zeros(y_pred.shape[0])\n",
    "    y_pred\n",
    "\n",
    "   \n",
    "    loss = loss_fn(y_pred, y)\n",
    "    if t % 20 == 0:\n",
    "        print(t, loss.item())\n",
    "        loss_array.append(loss)\n",
    "    optimizer.zero_grad()\n",
    "\n",
    "    loss.backward()\n",
    "\n",
    "    optimizer.step()\n",
    "\n",
    "\n"
   ]
  },
  {
   "cell_type": "code",
   "execution_count": 30,
   "metadata": {},
   "outputs": [
    {
     "data": {
      "image/png": "[encoded data removed]",
      "text/plain": [
       "<Figure size 432x288 with 1 Axes>"
      ]
     },
     "metadata": {
      "needs_background": "light"
     },
     "output_type": "display_data"
    }
   ],
   "source": [
    "import matplotlib.pyplot as plt\n",
    "plt.title(\"Loss vs iteration plot\")\n",
    "plt.plot(loss_array)\n",
    "plt.show()"
   ]
  },
  {
   "cell_type": "markdown",
   "metadata": {},
   "source": [
    "#### The predictions for Apollo 13 will show that these are much different than the actual predictions and also from the one we have recommended when the learning rate is 0.01"
   ]
  },
  {
   "cell_type": "code",
   "execution_count": 31,
   "metadata": {},
   "outputs": [
    {
     "data": {
      "text/plain": [
       "989     Indiana Jones and the Last Crusade (1989)\n",
       "123                              Apollo 13 (1995)\n",
       "599        Wallace & Gromit: A Close Shave (1995)\n",
       "277              Shawshank Redemption, The (1994)\n",
       "224     Star Wars: Episode IV - A New Hope (1977)\n",
       "1297                     Big Lebowski, The (1998)\n",
       "659                         Godfather, The (1972)\n",
       "1266                      Truman Show, The (1998)\n",
       "2637                       American Psycho (2000)\n",
       "2353                           Toy Story 2 (1999)\n",
       "Name: title, dtype: object"
      ]
     },
     "execution_count": 31,
     "metadata": {},
     "output_type": "execute_result"
    }
   ],
   "source": [
    "prediction(\"apollo 13\")"
   ]
  },
  {
   "cell_type": "markdown",
   "metadata": {},
   "source": [
    "### Our Analysis"
   ]
  },
  {
   "cell_type": "markdown",
   "metadata": {},
   "source": [
    "#### Learning rate scales the magnitude of our weights in order to minimize the network's loss function. If learning rate is set to a high value it would keep bouncing as it nears the optimal point and my not reach the optimal point and thus give us incorrect recommendations. Whereas, if learning rate is too small, then training will progress very slowly as we are making very tiny updates to the weight and there is a chance to get stuck in local minima and our gradient descent function will give constant loss with increase in iterations, resulting in high cost and incorrect recommendations."
   ]
  },
  {
   "cell_type": "code",
   "execution_count": null,
   "metadata": {},
   "outputs": [],
   "source": []
  },
  {
   "cell_type": "code",
   "execution_count": null,
   "metadata": {},
   "outputs": [],
   "source": []
  },
  {
   "cell_type": "code",
   "execution_count": null,
   "metadata": {},
   "outputs": [],
   "source": []
  }
 ],
 "metadata": {
  "anaconda-cloud": {},
  "kernelspec": {
   "display_name": "Python 3",
   "language": "python",
   "name": "python3"
  },
  "language_info": {
   "codemirror_mode": {
    "name": "ipython",
    "version": 3
   },
   "file_extension": ".py",
   "mimetype": "text/x-python",
   "name": "python",
   "nbconvert_exporter": "python",
   "pygments_lexer": "ipython3",
   "version": "3.8.5"
  }
 },
 "nbformat": 4,
 "nbformat_minor": 2
}
